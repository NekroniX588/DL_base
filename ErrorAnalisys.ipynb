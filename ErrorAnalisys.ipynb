{
 "cells": [
  {
   "cell_type": "code",
   "execution_count": 9,
   "id": "2d5ac1b0-f9b4-46c7-b8aa-6f4160f5dbdc",
   "metadata": {},
   "outputs": [],
   "source": [
    "import os\n",
    "import matplotlib.pyplot as plt\n",
    "from typing import List, Dict\n",
    "\n",
    "\n",
    "from tqdm import tqdm\n",
    "from PIL import Image\n",
    "\n",
    "import torch\n",
    "import torch.nn as nn\n",
    "import torch.nn.functional as F\n",
    "import torchvision.transforms as transforms\n",
    "from torch.utils.tensorboard import SummaryWriter\n",
    "from torchmetrics import CharErrorRate\n",
    "\n",
    "from dataset import OCRDataset\n",
    "from model import OCREncoder, OCRDecoder, OCRModel"
   ]
  },
  {
   "cell_type": "markdown",
   "id": "39f53029-4073-4b3d-a91a-f39f581f2329",
   "metadata": {},
   "source": [
    "# Load data"
   ]
  },
  {
   "cell_type": "code",
   "execution_count": 2,
   "id": "48953442-9ad4-453c-9444-97f04b4fb196",
   "metadata": {},
   "outputs": [],
   "source": [
    "transform = transforms.Compose([\n",
    "    transforms.Resize((48, 80)),\n",
    "    transforms.ToTensor(),\n",
    "])"
   ]
  },
  {
   "cell_type": "code",
   "execution_count": 3,
   "id": "8c758792-82c4-4c0c-be8e-14d0b8e4b842",
   "metadata": {},
   "outputs": [],
   "source": [
    "data = OCRDataset(\"data/samples\", transform=transform)\n",
    "\n",
    "train_data, test_data = torch.utils.data.random_split(data, \n",
    "                                                  [int(0.8 * len(data)), int(0.2 * len(data))], \n",
    "                                                  generator=torch.Generator().manual_seed(42)\n",
    "                                                 )"
   ]
  },
  {
   "cell_type": "markdown",
   "id": "a2566064-0320-445e-877c-161564b272bd",
   "metadata": {},
   "source": [
    "# Load model"
   ]
  },
  {
   "cell_type": "code",
   "execution_count": 4,
   "id": "0ea9a143-3c36-4011-aac1-2978df99ebdc",
   "metadata": {},
   "outputs": [],
   "source": [
    "encoder = OCREncoder()\n",
    "decoder = OCRDecoder(output_dim=len(data.vocab))\n",
    "net = OCRModel(encoder, decoder)\n",
    "\n",
    "cer_metric = CharErrorRate()"
   ]
  },
  {
   "cell_type": "code",
   "execution_count": 5,
   "id": "996a3420-ca11-4ce8-8019-3a227738892c",
   "metadata": {},
   "outputs": [
    {
     "data": {
      "text/plain": [
       "<All keys matched successfully>"
      ]
     },
     "execution_count": 5,
     "metadata": {},
     "output_type": "execute_result"
    }
   ],
   "source": [
    "net.load_state_dict(torch.load(\"best_model.pth\"))"
   ]
  },
  {
   "cell_type": "markdown",
   "id": "47961408-8fdc-4a19-a867-b06806109cfb",
   "metadata": {},
   "source": [
    "# Get errors"
   ]
  },
  {
   "cell_type": "code",
   "execution_count": 6,
   "id": "a4092eb4-6663-4638-8f7a-6e2cc0e45660",
   "metadata": {},
   "outputs": [
    {
     "name": "stderr",
     "output_type": "stream",
     "text": [
      "100%|████████████████████████████████████████████████████████████████████████████████| 214/214 [00:05<00:00, 37.70it/s]\n"
     ]
    }
   ],
   "source": [
    "net.eval()\n",
    "net = net.to('cuda')\n",
    "\n",
    "errors = []\n",
    "\n",
    "for k, (img, target) in enumerate(tqdm(test_data)):\n",
    "    img = img.to('cuda')\n",
    "    output = net(img.unsqueeze(0)).squeeze(0)\n",
    "    p = output.argmax(dim=-1).tolist()\n",
    "    t = target.tolist()\n",
    "    cer = cer_metric([p], [t]).item()\n",
    "    if cer > 0:\n",
    "        errors.append((k, cer))"
   ]
  },
  {
   "cell_type": "code",
   "execution_count": 11,
   "id": "101933c0-60c8-4f1d-992c-68195b797f31",
   "metadata": {},
   "outputs": [
    {
     "data": {
      "text/plain": [
       "[(1, 0.20000000298023224),\n",
       " (3, 0.20000000298023224),\n",
       " (5, 0.20000000298023224),\n",
       " (8, 0.20000000298023224),\n",
       " (10, 0.20000000298023224),\n",
       " (12, 0.20000000298023224),\n",
       " (16, 0.4000000059604645),\n",
       " (23, 0.20000000298023224),\n",
       " (24, 0.20000000298023224),\n",
       " (28, 0.20000000298023224),\n",
       " (29, 0.20000000298023224),\n",
       " (33, 0.20000000298023224),\n",
       " (43, 0.4000000059604645),\n",
       " (47, 0.4000000059604645),\n",
       " (53, 0.20000000298023224),\n",
       " (56, 0.20000000298023224),\n",
       " (59, 0.20000000298023224),\n",
       " (65, 0.4000000059604645),\n",
       " (67, 0.4000000059604645),\n",
       " (68, 0.4000000059604645),\n",
       " (72, 0.4000000059604645),\n",
       " (73, 0.20000000298023224),\n",
       " (75, 0.20000000298023224),\n",
       " (80, 0.20000000298023224),\n",
       " (81, 0.20000000298023224),\n",
       " (86, 0.20000000298023224),\n",
       " (89, 0.4000000059604645),\n",
       " (90, 0.4000000059604645),\n",
       " (95, 0.20000000298023224),\n",
       " (105, 0.20000000298023224),\n",
       " (110, 0.20000000298023224),\n",
       " (111, 0.20000000298023224),\n",
       " (113, 0.20000000298023224),\n",
       " (123, 0.20000000298023224),\n",
       " (124, 0.20000000298023224),\n",
       " (134, 0.20000000298023224),\n",
       " (137, 0.4000000059604645),\n",
       " (140, 0.20000000298023224),\n",
       " (141, 0.4000000059604645),\n",
       " (145, 0.20000000298023224),\n",
       " (146, 0.4000000059604645),\n",
       " (154, 0.20000000298023224),\n",
       " (162, 0.20000000298023224),\n",
       " (165, 0.20000000298023224),\n",
       " (166, 0.20000000298023224),\n",
       " (169, 0.20000000298023224),\n",
       " (170, 0.20000000298023224),\n",
       " (171, 0.20000000298023224),\n",
       " (173, 0.6000000238418579),\n",
       " (176, 0.20000000298023224),\n",
       " (177, 0.20000000298023224),\n",
       " (183, 0.20000000298023224),\n",
       " (185, 0.20000000298023224),\n",
       " (189, 0.20000000298023224),\n",
       " (192, 0.20000000298023224),\n",
       " (199, 0.20000000298023224),\n",
       " (202, 0.20000000298023224),\n",
       " (207, 0.20000000298023224),\n",
       " (208, 0.20000000298023224),\n",
       " (209, 0.20000000298023224),\n",
       " (211, 0.20000000298023224)]"
      ]
     },
     "execution_count": 11,
     "metadata": {},
     "output_type": "execute_result"
    }
   ],
   "source": [
    "errors"
   ]
  },
  {
   "cell_type": "markdown",
   "id": "ac3afdb5-4fff-4067-ab9e-8629af8ff7fc",
   "metadata": {},
   "source": [
    "# Visualisation"
   ]
  },
  {
   "cell_type": "code",
   "execution_count": 37,
   "id": "832d649b-4562-4290-9ec7-916526fc66ed",
   "metadata": {},
   "outputs": [],
   "source": [
    "def get_pred(number):\n",
    "    img, target = test_data[number]\n",
    "    img = img.to('cuda')\n",
    "    output = net(img.unsqueeze(0)).squeeze(0)\n",
    "    p = output.argmax(dim=-1).tolist()\n",
    "    plt.imshow(img.cpu().squeeze(0))\n",
    "    plt.show()\n",
    "    print('Target', data.decode(target.tolist()))\n",
    "    print('Pred', data.decode(p))"
   ]
  },
  {
   "cell_type": "code",
   "execution_count": 38,
   "id": "f9faa758-7487-4a4a-bb7c-445940b9779a",
   "metadata": {},
   "outputs": [
    {
     "data": {
      "image/png": "[encoded data removed]",
      "text/plain": [
       "<Figure size 432x288 with 1 Axes>"
      ]
     },
     "metadata": {
      "needs_background": "light"
     },
     "output_type": "display_data"
    },
    {
     "name": "stdout",
     "output_type": "stream",
     "text": [
      "Target mpmy5\n",
      "Pred mnmy5\n"
     ]
    }
   ],
   "source": [
    "get_pred(1)"
   ]
  },
  {
   "cell_type": "code",
   "execution_count": 39,
   "id": "dbd35866-eaa4-4da7-979b-02fa56c62f6d",
   "metadata": {},
   "outputs": [
    {
     "data": {
      "image/png": "[encoded data removed]",
      "text/plain": [
       "<Figure size 432x288 with 1 Axes>"
      ]
     },
     "metadata": {
      "needs_background": "light"
     },
     "output_type": "display_data"
    },
    {
     "name": "stdout",
     "output_type": "stream",
     "text": [
      "Target 4m2w5\n",
      "Pred 8m3w5\n"
     ]
    }
   ],
   "source": [
    "get_pred(90)"
   ]
  },
  {
   "cell_type": "markdown",
   "id": "3894e344-4f18-453f-8e1f-9eae27a2130e",
   "metadata": {},
   "source": [
    "# Выводы"
   ]
  },
  {
   "cell_type": "markdown",
   "id": "8c44b47e-a109-4291-8fdb-eccc91768ae5",
   "metadata": {},
   "source": [
    "1. Ошибки возникают из-за недостаточного кол-ва обучающих примеров. \n",
    "Возможность исправления: \n",
    " - аугментации\n",
    " - генерация сентетики\n",
    " - обогащение выборки\n",
    " \n",
    "2. Модель сильно переобучается на трейновых примерах (лосс практичеки 0). Нужно давать более жесткие аугментации."
   ]
  },
  {
   "cell_type": "code",
   "execution_count": null,
   "id": "33b41c24-8294-4f3e-9785-01300483c841",
   "metadata": {},
   "outputs": [],
   "source": []
  }
 ],
 "metadata": {
  "kernelspec": {
   "display_name": "Python 3 (ipykernel)",
   "language": "python",
   "name": "python3"
  },
  "language_info": {
   "codemirror_mode": {
    "name": "ipython",
    "version": 3
   },
   "file_extension": ".py",
   "mimetype": "text/x-python",
   "name": "python",
   "nbconvert_exporter": "python",
   "pygments_lexer": "ipython3",
   "version": "3.9.13"
  }
 },
 "nbformat": 4,
 "nbformat_minor": 5
}
